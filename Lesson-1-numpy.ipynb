{
 "cells": [
  {
   "cell_type": "code",
   "execution_count": 129,
   "id": "edb912f3",
   "metadata": {},
   "outputs": [],
   "source": [
    "import numpy as np"
   ]
  },
  {
   "cell_type": "code",
   "execution_count": 130,
   "id": "cb6c2a75",
   "metadata": {},
   "outputs": [],
   "source": [
    "Numpy = np.array([[1, 2, 3, 3, 1], \n",
    "                [6, 8, 11, 10, 7]])"
   ]
  },
  {
   "cell_type": "code",
   "execution_count": 131,
   "id": "501b6e19",
   "metadata": {},
   "outputs": [
    {
     "data": {
      "text/plain": [
       "array([[ 1,  2,  3,  3,  1],\n",
       "       [ 6,  8, 11, 10,  7]])"
      ]
     },
     "execution_count": 131,
     "metadata": {},
     "output_type": "execute_result"
    }
   ],
   "source": [
    "Numpy"
   ]
  },
  {
   "cell_type": "code",
   "execution_count": 132,
   "id": "6bf4e421",
   "metadata": {},
   "outputs": [],
   "source": [
    "mean_a = Numpy.mean(axis=1) "
   ]
  },
  {
   "cell_type": "code",
   "execution_count": 133,
   "id": "545bc9cb",
   "metadata": {},
   "outputs": [
    {
     "data": {
      "text/plain": [
       "array([2. , 8.4])"
      ]
     },
     "execution_count": 133,
     "metadata": {},
     "output_type": "execute_result"
    }
   ],
   "source": [
    "mean_a "
   ]
  },
  {
   "cell_type": "code",
   "execution_count": 134,
   "id": "5bf2d4e4",
   "metadata": {},
   "outputs": [],
   "source": [
    "a = Numpy"
   ]
  },
  {
   "cell_type": "code",
   "execution_count": 135,
   "id": "e7fd817c",
   "metadata": {},
   "outputs": [],
   "source": [
    "a_centered = a.T - mean_a.T"
   ]
  },
  {
   "cell_type": "code",
   "execution_count": 136,
   "id": "9d502133",
   "metadata": {},
   "outputs": [
    {
     "name": "stdout",
     "output_type": "stream",
     "text": [
      "(5, 2)\n",
      "[[-1.  -2.4]\n",
      " [ 0.  -0.4]\n",
      " [ 1.   2.6]\n",
      " [ 1.   1.6]\n",
      " [-1.  -1.4]]\n"
     ]
    }
   ],
   "source": [
    "print(a_centered.shape)\n",
    "print(a_centered)"
   ]
  },
  {
   "cell_type": "code",
   "execution_count": 146,
   "id": "fdbb25b3",
   "metadata": {},
   "outputs": [],
   "source": [
    "a_centered_sp = a_centered.T[0] @ a_centered.T[1]"
   ]
  },
  {
   "cell_type": "code",
   "execution_count": 147,
   "id": "818f2a8d",
   "metadata": {},
   "outputs": [
    {
     "data": {
      "text/plain": [
       "8.0"
      ]
     },
     "execution_count": 147,
     "metadata": {},
     "output_type": "execute_result"
    }
   ],
   "source": [
    "a_centered_sp"
   ]
  },
  {
   "cell_type": "code",
   "execution_count": 148,
   "id": "2e2c7b16",
   "metadata": {},
   "outputs": [
    {
     "data": {
      "text/plain": [
       "2.0"
      ]
     },
     "execution_count": 148,
     "metadata": {},
     "output_type": "execute_result"
    }
   ],
   "source": [
    "a_centered_sp / (a_centered.shape[0] - 1)"
   ]
  },
  {
   "cell_type": "code",
   "execution_count": 152,
   "id": "7bb3c964",
   "metadata": {
    "scrolled": true
   },
   "outputs": [
    {
     "data": {
      "text/plain": [
       "2.0"
      ]
     },
     "execution_count": 152,
     "metadata": {},
     "output_type": "execute_result"
    }
   ],
   "source": [
    "np.cov(a)[0, 1]"
   ]
  }
 ],
 "metadata": {
  "kernelspec": {
   "display_name": "Python 3",
   "language": "python",
   "name": "python3"
  },
  "language_info": {
   "codemirror_mode": {
    "name": "ipython",
    "version": 3
   },
   "file_extension": ".py",
   "mimetype": "text/x-python",
   "name": "python",
   "nbconvert_exporter": "python",
   "pygments_lexer": "ipython3",
   "version": "3.8.10"
  }
 },
 "nbformat": 4,
 "nbformat_minor": 5
}
